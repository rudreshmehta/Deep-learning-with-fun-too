{
  "nbformat": 4,
  "nbformat_minor": 0,
  "metadata": {
    "colab": {
      "name": "mnist basic keras .ipynb",
      "provenance": [],
      "collapsed_sections": []
    },
    "kernelspec": {
      "name": "python3",
      "display_name": "Python 3"
    },
    "accelerator": "TPU"
  },
  "cells": [
    {
      "cell_type": "code",
      "metadata": {
        "id": "mGYI7FqPNoPC",
        "colab_type": "code",
        "colab": {
          "base_uri": "https://localhost:8080/",
          "height": 225
        },
        "outputId": "135d05f9-7939-4eac-da37-41c5d490cd5b"
      },
      "source": [
        "import tensorflow as tf\n",
        "mnist = tf.keras.datasets.mnist #28 28 0-9 image\n",
        "(x_train,y_train), (x_test,y_test) = mnist.load_data()\n",
        "\n",
        "x_train = tf.keras.utils.normalize(x_train, axis=1)#normalize\n",
        "x_test = tf.keras.utils.normalize(x_test, axis=1)\n",
        "\n",
        "model = tf.keras.models.Sequential()#simple feed-forward\n",
        "model.add(tf.keras.layers.Flatten(input_shape=(28,28)))#flatten\n",
        "model.add(tf.keras.layers.Dense(128,activation=tf.nn.relu))\n",
        "model.add(tf.keras.layers.Dense(128,activation=tf.nn.relu))\n",
        "model.add(tf.keras.layers.Dense(128,activation=tf.nn.softmax))\n",
        "\n",
        "model.compile(optimizer='adam',loss='sparse_categorical_crossentropy', metrics=['accuracy'])\n",
        "\n",
        "model.fit(x_train, y_train,epochs=5)"
      ],
      "execution_count": 25,
      "outputs": [
        {
          "output_type": "stream",
          "text": [
            "Train on 60000 samples\n",
            "Epoch 1/5\n",
            "60000/60000 [==============================] - 5s 84us/sample - loss: 0.3204 - acc: 0.9087\n",
            "Epoch 2/5\n",
            "60000/60000 [==============================] - 5s 83us/sample - loss: 0.1146 - acc: 0.9647\n",
            "Epoch 3/5\n",
            "60000/60000 [==============================] - 5s 85us/sample - loss: 0.0790 - acc: 0.9750\n",
            "Epoch 4/5\n",
            "60000/60000 [==============================] - 5s 83us/sample - loss: 0.0582 - acc: 0.9811\n",
            "Epoch 5/5\n",
            "60000/60000 [==============================] - 5s 84us/sample - loss: 0.0455 - acc: 0.9851\n"
          ],
          "name": "stdout"
        },
        {
          "output_type": "execute_result",
          "data": {
            "text/plain": [
              "<tensorflow.python.keras.callbacks.History at 0x7fd2ecd62c18>"
            ]
          },
          "metadata": {
            "tags": []
          },
          "execution_count": 25
        }
      ]
    },
    {
      "cell_type": "code",
      "metadata": {
        "id": "FhG0T8TxLF7-",
        "colab_type": "code",
        "colab": {}
      },
      "source": [
        "import matplotlib.pyplot as plt\n",
        "plt.imshow(x_train[0],cmap= plt.cm.binary)#cm represent color map\n",
        "plt.show()\n",
        "print(x_train[0]) #image into numeric or tensor\n"
      ],
      "execution_count": 0,
      "outputs": []
    },
    {
      "cell_type": "code",
      "metadata": {
        "id": "MCi3e5xlOYkS",
        "colab_type": "code",
        "colab": {
          "base_uri": "https://localhost:8080/",
          "height": 52
        },
        "outputId": "33341575-72cb-47f4-87b7-bbcd35bbe8ce"
      },
      "source": [
        "val_loss, val_acc = model.evaluate(x_test,y_test)\n",
        "print(val_loss, val_acc)"
      ],
      "execution_count": 27,
      "outputs": [
        {
          "output_type": "stream",
          "text": [
            "10000/10000 [==============================] - 0s 40us/sample - loss: 0.0953 - acc: 0.9729\n",
            "0.09530388753646984 0.9729\n"
          ],
          "name": "stdout"
        }
      ]
    },
    {
      "cell_type": "code",
      "metadata": {
        "id": "qbjPY2RPOtsX",
        "colab_type": "code",
        "colab": {}
      },
      "source": [
        "model.save('mnist_num_reader.model') #save"
      ],
      "execution_count": 0,
      "outputs": []
    },
    {
      "cell_type": "code",
      "metadata": {
        "id": "VD1Ib56DPMcn",
        "colab_type": "code",
        "colab": {}
      },
      "source": [
        "new_model = tf.keras.models.load_model('mnist_num_reader.model') #reloadmodel"
      ],
      "execution_count": 0,
      "outputs": []
    },
    {
      "cell_type": "code",
      "metadata": {
        "id": "QGDuHbQUPfMR",
        "colab_type": "code",
        "colab": {}
      },
      "source": [
        "prediction = new_model.predict([x_test])"
      ],
      "execution_count": 0,
      "outputs": []
    },
    {
      "cell_type": "code",
      "metadata": {
        "id": "f7x9P5ulT_VY",
        "colab_type": "code",
        "colab": {
          "base_uri": "https://localhost:8080/",
          "height": 243
        },
        "outputId": "a2d6d9ed-1165-4cb3-d244-151a8a71e540"
      },
      "source": [
        "print(prediction) #this is not in appropriate form so lets see with matploit lib for first character"
      ],
      "execution_count": 35,
      "outputs": [
        {
          "output_type": "stream",
          "text": [
            "[[1.1101640e-07 2.6690577e-08 1.0601598e-05 ... 3.1977031e-13\n",
            "  7.8418451e-13 2.0441931e-13]\n",
            " [5.4090504e-12 2.2585394e-07 9.9999976e-01 ... 2.2946645e-20\n",
            "  4.1786079e-21 2.3596248e-20]\n",
            " [1.1895633e-08 9.9982506e-01 5.6396257e-06 ... 9.7742381e-10\n",
            "  1.0721594e-10 1.5480939e-10]\n",
            " ...\n",
            " [5.4295363e-11 4.0518458e-08 3.3464986e-09 ... 2.4818645e-13\n",
            "  2.3362502e-13 1.4584285e-13]\n",
            " [5.1979395e-08 1.8515875e-08 2.4258201e-08 ... 2.0698561e-14\n",
            "  2.9031075e-14 6.6554015e-14]\n",
            " [2.8174933e-08 1.9940443e-09 1.0668619e-07 ... 7.5661408e-18\n",
            "  1.8480484e-17 5.5242662e-17]]\n"
          ],
          "name": "stdout"
        }
      ]
    },
    {
      "cell_type": "code",
      "metadata": {
        "id": "saBq70HGUmDn",
        "colab_type": "code",
        "colab": {
          "base_uri": "https://localhost:8080/",
          "height": 34
        },
        "outputId": "a1ce1dd4-36ce-4e57-dba8-233fb2951672"
      },
      "source": [
        "import numpy as np\n",
        "\n",
        "print(np.argmax(prediction[0]))"
      ],
      "execution_count": 36,
      "outputs": [
        {
          "output_type": "stream",
          "text": [
            "7\n"
          ],
          "name": "stdout"
        }
      ]
    },
    {
      "cell_type": "code",
      "metadata": {
        "id": "Qk6u6aP4WcUU",
        "colab_type": "code",
        "colab": {
          "base_uri": "https://localhost:8080/",
          "height": 265
        },
        "outputId": "d6920aa2-6112-4786-be06-44db24125864"
      },
      "source": [
        "plt.imshow(x_test[0])\n",
        "plt.show()"
      ],
      "execution_count": 37,
      "outputs": [
        {
          "output_type": "display_data",
          "data": {
            "image/png": "[encoded data removed]",
            "text/plain": [
              "<Figure size 432x288 with 1 Axes>"
            ]
          },
          "metadata": {
            "tags": []
          }
        }
      ]
    }
  ]
}